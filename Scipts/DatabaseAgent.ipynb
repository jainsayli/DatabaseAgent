{
 "cells": [
  {
   "cell_type": "code",
   "execution_count": 24,
   "id": "9d687221-cc2f-4513-8575-2fe30e648015",
   "metadata": {},
   "outputs": [],
   "source": [
    "import os \n",
    "import pandas as pd \n",
    "from IPython.display import Markdown, HTML, display"
   ]
  },
  {
   "cell_type": "code",
   "execution_count": 25,
   "id": "f924a5dc-d976-4a8d-99ad-eea7164723e4",
   "metadata": {},
   "outputs": [],
   "source": [
    "from langchain.schema import HumanMessage\n",
    "from langchain_openai import AzureChatOpenAI\n",
    "\n",
    "model = AzureChatOpenAI(\n",
    "    openai_api_version=\"2024-04-01-preview\",\n",
    "    azure_deployment=\"SayliModelSQLite\",\n",
    "    azure_endpoint =\"https://memi-openai-sayli.openai.azure.com/\",\n",
    "    api_key=\"17ddcb09784446f1bd2ef4ac4cd31cc4\" \n",
    ")"
   ]
  },
  {
   "cell_type": "code",
   "execution_count": 26,
   "id": "e0b63970-8fe3-4ec5-841f-9fb54f8c7949",
   "metadata": {},
   "outputs": [],
   "source": [
    "message = HumanMessage(\n",
    "    content=\"Translate this sentence from English \"\n",
    "    \"to French and Spanish. I like red cars and \"\n",
    "    \"blue houses, but my dog is yellow.\"\n",
    ")"
   ]
  },
  {
   "cell_type": "code",
   "execution_count": 27,
   "id": "7b219699-7e4f-440e-b700-eb7f02baf520",
   "metadata": {},
   "outputs": [
    {
     "data": {
      "text/plain": [
       "AIMessage(content=\"Sure! Here’s the translation:\\n\\n**French:** J'aime les voitures rouges et les maisons bleues, mais mon chien est jaune.\\n\\n**Spanish:** Me gustan los coches rojos y las casas azules, pero mi perro es amarillo.\", additional_kwargs={'refusal': None}, response_metadata={'token_usage': {'completion_tokens': 49, 'prompt_tokens': 31, 'total_tokens': 80, 'completion_tokens_details': {'accepted_prediction_tokens': 0, 'audio_tokens': 0, 'reasoning_tokens': 0, 'rejected_prediction_tokens': 0}, 'prompt_tokens_details': {'audio_tokens': 0, 'cached_tokens': 0}}, 'model_name': 'gpt-4o-mini-2024-07-18', 'system_fingerprint': 'fp_efad92c60b', 'id': 'chatcmpl-Bmf3XUsuWXiqoWKivo0tosdPqaKwO', 'service_tier': None, 'prompt_filter_results': [{'prompt_index': 0, 'content_filter_results': {'hate': {'filtered': False, 'severity': 'safe'}, 'jailbreak': {'filtered': False, 'detected': False}, 'self_harm': {'filtered': False, 'severity': 'safe'}, 'sexual': {'filtered': False, 'severity': 'safe'}, 'violence': {'filtered': False, 'severity': 'safe'}}}], 'finish_reason': 'stop', 'logprobs': None, 'content_filter_results': {'hate': {'filtered': False, 'severity': 'safe'}, 'self_harm': {'filtered': False, 'severity': 'safe'}, 'sexual': {'filtered': False, 'severity': 'safe'}, 'violence': {'filtered': False, 'severity': 'safe'}}}, id='run--0633ee26-62f6-442e-8017-8b794bc33fd8-0', usage_metadata={'input_tokens': 31, 'output_tokens': 49, 'total_tokens': 80, 'input_token_details': {'audio': 0, 'cache_read': 0}, 'output_token_details': {'audio': 0, 'reasoning': 0}})"
      ]
     },
     "execution_count": 27,
     "metadata": {},
     "output_type": "execute_result"
    }
   ],
   "source": [
    "model.invoke([message])"
   ]
  },
  {
   "cell_type": "code",
   "execution_count": 28,
   "id": "dd5da6f3-1af2-44f1-876d-70b50d011846",
   "metadata": {
    "scrolled": true
   },
   "outputs": [],
   "source": [
    "df = pd.read_csv(\"F:/GenAI/Database Agent/Data/all-states-history.csv\").fillna(value = 0)"
   ]
  },
  {
   "cell_type": "code",
   "execution_count": 29,
   "id": "480caa3e-a1fd-46c8-81a4-ac1de5530d5c",
   "metadata": {},
   "outputs": [
    {
     "name": "stderr",
     "output_type": "stream",
     "text": [
      "C:\\Users\\Aadipiya\\AppData\\Local\\Programs\\Python\\Python313\\Lib\\site-packages\\langchain_experimental\\agents\\agent_toolkits\\pandas\\base.py:283: UserWarning: Received additional kwargs {'handle_parsing_errors': True} which are no longer supported.\n",
      "  warnings.warn(\n"
     ]
    },
    {
     "name": "stdout",
     "output_type": "stream",
     "text": [
      "\n",
      "\n",
      "\u001b[1m> Entering new AgentExecutor chain...\u001b[0m\n",
      "\u001b[32;1m\u001b[1;3mThought: To determine the number of rows in the pandas DataFrame `df`, I can use the `shape` attribute, which returns a tuple where the first element is the number of rows and the second element is the number of columns.\n",
      "Action: python_repl_ast\n",
      "Action Input: df.shape[0]\u001b[0m\u001b[36;1m\u001b[1;3m20780\u001b[0m\u001b[32;1m\u001b[1;3mI now know the final answer.  \n",
      "Final Answer: There are 20,780 rows in the DataFrame `df`.\u001b[0m\n",
      "\n",
      "\u001b[1m> Finished chain.\u001b[0m\n"
     ]
    },
    {
     "data": {
      "text/plain": [
       "{'input': 'how many rows are there?',\n",
       " 'output': 'There are 20,780 rows in the DataFrame `df`.'}"
      ]
     },
     "execution_count": 29,
     "metadata": {},
     "output_type": "execute_result"
    }
   ],
   "source": [
    "from langchain.agents.agent_types import AgentType\n",
    "from langchain_experimental.agents.agent_toolkits import create_pandas_dataframe_agent\n",
    "\n",
    "agent = create_pandas_dataframe_agent(llm=model,df=df,verbose=True,allow_dangerous_code=True,handle_parsing_errors=True)\n",
    "\n",
    "agent.invoke(\"how many rows are there?\")"
   ]
  },
  {
   "cell_type": "code",
   "execution_count": 30,
   "id": "18183d74-30fb-4c05-8007-32b6140f94ed",
   "metadata": {},
   "outputs": [
    {
     "name": "stdout",
     "output_type": "stream",
     "text": [
      "\n",
      "\n",
      "\u001b[1m> Entering new AgentExecutor chain...\u001b[0m\n",
      "\u001b[32;1m\u001b[1;3mThought: I need to set the pandas display options to show all columns, then retrieve the column names. After that, I will filter the data to find how many patients were hospitalized during July 2020. First, I will set the display options and retrieve the column names.\n",
      "\n",
      "Action: python_repl_ast\n",
      "Action Input: \n",
      "```python\n",
      "import pandas as pd\n",
      "\n",
      "# Set pandas display options to show all columns\n",
      "pd.set_option('display.max_columns', None)\n",
      "\n",
      "# Get the column names\n",
      "column_names = df.columns.tolist()\n",
      "column_names\n",
      "```\u001b[0m\u001b[36;1m\u001b[1;3m['date', 'state', 'death', 'deathConfirmed', 'deathIncrease', 'deathProbable', 'hospitalized', 'hospitalizedCumulative', 'hospitalizedCurrently', 'hospitalizedIncrease', 'inIcuCumulative', 'inIcuCurrently', 'negative', 'negativeIncrease', 'negativeTestsAntibody', 'negativeTestsPeopleAntibody', 'negativeTestsViral', 'onVentilatorCumulative', 'onVentilatorCurrently', 'positive', 'positiveCasesViral', 'positiveIncrease', 'positiveScore', 'positiveTestsAntibody', 'positiveTestsAntigen', 'positiveTestsPeopleAntibody', 'positiveTestsPeopleAntigen', 'positiveTestsViral', 'recovered', 'totalTestEncountersViral', 'totalTestEncountersViralIncrease', 'totalTestResults', 'totalTestResultsIncrease', 'totalTestsAntibody', 'totalTestsAntigen', 'totalTestsPeopleAntibody', 'totalTestsPeopleAntigen', 'totalTestsPeopleViral', 'totalTestsPeopleViralIncrease', 'totalTestsViral', 'totalTestsViralIncrease']\u001b[0m\u001b[32;1m\u001b[1;3mNow that I have the column names from the dataframe, I can see that the relevant column for this query is `hospitalized`, which indicates the number of patients hospitalized during a given day. To find out how many patients were hospitalized during July 2020, I'll filter the dataframe for dates within that month and sum up the values in the `hospitalized` column.\n",
      "\n",
      "Action: python_repl_ast\n",
      "Action Input: \n",
      "```python\n",
      "# Convert the date column to datetime format\n",
      "df['date'] = pd.to_datetime(df['date'])\n",
      "\n",
      "# Filter the dataframe for July 2020 and sum the hospitalized numbers\n",
      "july_2020_hospitalizations = df[(df['date'] >= '2020-07-01') & (df['date'] <= '2020-07-31')]['hospitalized'].sum()\n",
      "july_2020_hospitalizations\n",
      "```\u001b[0m\u001b[36;1m\u001b[1;3m5535849.0\u001b[0m\u001b[32;1m\u001b[1;3mI have found the total number of patients hospitalized in July 2020, which is 5,535,849. However, it's essential to confirm this result by employing another method.\n",
      "\n",
      "Thought: I'll check whether calculating the sum of the `hospitalized` values in July 2020 can be verified through another approach. I could alternatively calculate the daily totals for each state and then sum them for July 2020 to ensure the result is consistent.\n",
      "\n",
      "Action: python_repl_ast\n",
      "Action Input: \n",
      "```python\n",
      "# Group by date and sum the hospitalized numbers to find daily totals for each state in July 2020\n",
      "daily_hospitalizations_july = df[(df['date'] >= '2020-07-01') & (df['date'] <= '2020-07-31')].groupby('date')['hospitalized'].sum().sum()\n",
      "daily_hospitalizations_july\n",
      "```\u001b[0m\u001b[36;1m\u001b[1;3m5535849.0\u001b[0m\u001b[32;1m\u001b[1;3mI have obtained the same result using two different methods to calculate the total number of patients hospitalized during July 2020, confirming the accuracy of my findings.\n",
      "\n",
      "**Final Answer:** \n",
      "\n",
      "The total number of patients hospitalized during July 2020 was **5,535,849**. \n",
      "\n",
      "**Explanation:**\n",
      "\n",
      "To arrive at this answer, I used the following steps:\n",
      "\n",
      "1. Converted the `date` column to a datetime format for accurate date filtering.\n",
      "2. Filtered the dataframe for the dates between July 1, 2020, and July 31, 2020.\n",
      "3. Summed the values in the `hospitalized` column to obtain the total number of hospitalizations for that month.\n",
      "\n",
      "Both methods yielded the same result of **5,535,849** hospitalizations for July 2020, indicating the reliability of this information. The column names utilized for this calculation were `date` and `hospitalized`.\u001b[0m\n",
      "\n",
      "\u001b[1m> Finished chain.\u001b[0m\n"
     ]
    },
    {
     "data": {
      "text/plain": [
       "{'input': '\\nFirst set the pandas display options to show all the columns,\\nget the column names, then answer the question.\\nHow may patients were hospitalized during July 2020\\n- **ALWAYS** before giving the Final Answer, try another method.\\nThen reflect on the answers of the two methods you did and ask yourself\\nif it answers correctly the original question.\\nIf you are not sure, try another method.\\n- If the methods tried do not give the same result,reflect and\\ntry again until you have two methods that have the same result.\\n- If you still cannot arrive to a consistent result, say that\\nyou are not sure of the answer.\\n- If you are sure of the correct answer, create a beautiful\\nand thorough response using Markdown.\\n- **DO NOT MAKE UP AN ANSWER OR USE PRIOR KNOWLEDGE,\\nONLY USE THE RESULTS OF THE CALCULATIONS YOU HAVE DONE**.\\n- **ALWAYS**, as part of your \"Final Answer\", explain how you got\\nto the answer on a section that starts with: \"\\n\\nExplanation:\\n\".\\nIn the explanation, mention the column names that you used to get\\nto the final answer.\\n',\n",
       " 'output': '** \\n\\nThe total number of patients hospitalized during July 2020 was **5,535,849**. \\n\\n**Explanation:**\\n\\nTo arrive at this answer, I used the following steps:\\n\\n1. Converted the `date` column to a datetime format for accurate date filtering.\\n2. Filtered the dataframe for the dates between July 1, 2020, and July 31, 2020.\\n3. Summed the values in the `hospitalized` column to obtain the total number of hospitalizations for that month.\\n\\nBoth methods yielded the same result of **5,535,849** hospitalizations for July 2020, indicating the reliability of this information. The column names utilized for this calculation were `date` and `hospitalized`.'}"
      ]
     },
     "execution_count": 30,
     "metadata": {},
     "output_type": "execute_result"
    }
   ],
   "source": [
    "CSV_PROMPT_PREFIX = \"\"\"\n",
    "First set the pandas display options to show all the columns,\n",
    "get the column names, then answer the question.\n",
    "\"\"\"\n",
    "\n",
    "CSV_PROMPT_SUFFIX = \"\"\"\n",
    "- **ALWAYS** before giving the Final Answer, try another method.\n",
    "Then reflect on the answers of the two methods you did and ask yourself\n",
    "if it answers correctly the original question.\n",
    "If you are not sure, try another method.\n",
    "- If the methods tried do not give the same result,reflect and\n",
    "try again until you have two methods that have the same result.\n",
    "- If you still cannot arrive to a consistent result, say that\n",
    "you are not sure of the answer.\n",
    "- If you are sure of the correct answer, create a beautiful\n",
    "and thorough response using Markdown.\n",
    "- **DO NOT MAKE UP AN ANSWER OR USE PRIOR KNOWLEDGE,\n",
    "ONLY USE THE RESULTS OF THE CALCULATIONS YOU HAVE DONE**.\n",
    "- **ALWAYS**, as part of your \"Final Answer\", explain how you got\n",
    "to the answer on a section that starts with: \"\\n\\nExplanation:\\n\".\n",
    "In the explanation, mention the column names that you used to get\n",
    "to the final answer.\n",
    "\"\"\"\n",
    "\n",
    "QUESTION = \"How may patients were hospitalized during July 2020\" \n",
    "\"in Texas, and nationwide as the total of all states?\"\n",
    "\"Use the hospitalizedIncrease column\" \n",
    "\n",
    "\n",
    "agent.invoke(CSV_PROMPT_PREFIX + QUESTION + CSV_PROMPT_SUFFIX)"
   ]
  },
  {
   "cell_type": "code",
   "execution_count": 31,
   "id": "f85a28ea-2225-4276-8884-edaeb6fd61ee",
   "metadata": {},
   "outputs": [],
   "source": [
    "import os\n",
    "from IPython.display import Markdown, HTML, display\n",
    "from langchain.chat_models import AzureChatOpenAI\n",
    "from langchain.agents import create_sql_agent\n",
    "from langchain.agents.agent_toolkits import SQLDatabaseToolkit\n",
    "from langchain.sql_database import SQLDatabase\n",
    "from langchain_openai import AzureChatOpenAI"
   ]
  },
  {
   "cell_type": "code",
   "execution_count": 32,
   "id": "6050774d-b366-4fa9-9b07-ab4c055ec680",
   "metadata": {},
   "outputs": [],
   "source": [
    "from sqlalchemy import create_engine\n",
    "import pandas as pd\n",
    "\n",
    "\n",
    "df = pd.read_csv(\"F:/GenAI/Database Agent/Data/all-states-history.csv\").fillna(value = 0)"
   ]
  },
  {
   "cell_type": "code",
   "execution_count": 33,
   "id": "a5183a16-103f-4753-89e1-89607da710c5",
   "metadata": {},
   "outputs": [],
   "source": [
    "import sqlite3"
   ]
  },
  {
   "cell_type": "code",
   "execution_count": 34,
   "id": "e4dff35e-26bd-4dce-a71e-7e797206eeaa",
   "metadata": {},
   "outputs": [],
   "source": [
    "conn = sqlite3.connect(\"test.db\")"
   ]
  },
  {
   "cell_type": "code",
   "execution_count": 35,
   "id": "5d9494ac-ac74-4ed4-b56f-6edfea93fa19",
   "metadata": {},
   "outputs": [
    {
     "data": {
      "text/plain": [
       "20780"
      ]
     },
     "execution_count": 35,
     "metadata": {},
     "output_type": "execute_result"
    }
   ],
   "source": [
    "# Path to your SQLite database file\n",
    "database_file_path = \"F:/GenAI/Database Agent/Scipts/test.db\"\n",
    "\n",
    "# Create an engine to connect to the SQLite database\n",
    "# SQLite only requires the path to the database file\n",
    "engine = create_engine(f'sqlite:///{database_file_path}')\n",
    "file_url = \"F:/GenAI/Database Agent/Data/all-states-history.csv\"\n",
    "df = pd.read_csv(file_url).fillna(value = 0)\n",
    "df.to_sql(\n",
    "    'all_states_history',\n",
    "    con=engine,\n",
    "    if_exists='replace',\n",
    "    index=False\n",
    ")"
   ]
  },
  {
   "cell_type": "code",
   "execution_count": 36,
   "id": "c2d4ed9a-2d17-4731-adce-4f79321d8992",
   "metadata": {},
   "outputs": [],
   "source": [
    "MSSQL_AGENT_PREFIX = \"\"\"\n",
    "\n",
    "You are an agent designed to interact with a SQL database.\n",
    "## Instructions:\n",
    "- Given an input question, create a syntactically correct {dialect} query\n",
    "to run, then look at the results of the query and return the answer.\n",
    "- Unless the user specifies a specific number of examples they wish to\n",
    "obtain, **ALWAYS** limit your query to at most {top_k} results.\n",
    "- You can order the results by a relevant column to return the most\n",
    "interesting examples in the database.\n",
    "- Never query for all the columns from a specific table, only ask for\n",
    "the relevant columns given the question.\n",
    "- You have access to tools for interacting with the database.\n",
    "- You MUST double check your query before executing it.If you get an error\n",
    "while executing a query,rewrite the query and try again.\n",
    "- DO NOT make any DML statements (INSERT, UPDATE, DELETE, DROP etc.)\n",
    "to the database.\n",
    "- DO NOT MAKE UP AN ANSWER OR USE PRIOR KNOWLEDGE, ONLY USE THE RESULTS\n",
    "OF THE CALCULATIONS YOU HAVE DONE.\n",
    "- Your response should be in Markdown. However, **when running  a SQL Query\n",
    "in \"Action Input\", do not include the markdown backticks**.\n",
    "Those are only for formatting the response, not for executing the command.\n",
    "- ALWAYS, as part of your final answer, explain how you got to the answer\n",
    "on a section that starts with: \"Explanation:\". Include the SQL query as\n",
    "part of the explanation section.\n",
    "- If the question does not seem related to the database, just return\n",
    "\"I don\\'t know\" as the answer.\n",
    "- Only use the below tools. Only use the information returned by the\n",
    "below tools to construct your query and final answer.\n",
    "- Do not make up table names, only use the tables returned by any of the\n",
    "tools below.\n",
    "\n",
    "## Tools:\n",
    "\n",
    "\"\"\""
   ]
  },
  {
   "cell_type": "code",
   "execution_count": 37,
   "id": "a6609651-b4c1-40ba-88ab-1912ea8d26c2",
   "metadata": {},
   "outputs": [],
   "source": [
    "MSSQL_AGENT_FORMAT_INSTRUCTIONS = \"\"\"\n",
    "\n",
    "## Use the following format:\n",
    "\n",
    "Question: the input question you must answer.\n",
    "Thought: you should always think about what to do.\n",
    "Action: the action to take, should be one of [{tool_names}].\n",
    "Action Input: the input to the action.\n",
    "Observation: the result of the action.\n",
    "... (this Thought/Action/Action Input/Observation can repeat N times)\n",
    "Thought: I now know the final answer.\n",
    "Final Answer: the final answer to the original input question.\n",
    "\n",
    "Example of Final Answer:\n",
    "<=== Beginning of example\n",
    "\n",
    "Action: query_sql_db\n",
    "Action Input: \n",
    "SELECT TOP (10) [death]\n",
    "FROM covidtracking \n",
    "WHERE state = 'TX' AND date LIKE '2020%'\n",
    "\n",
    "Observation:\n",
    "[(27437.0,), (27088.0,), (26762.0,), (26521.0,), (26472.0,), (26421.0,), (26408.0,)]\n",
    "Thought:I now know the final answer\n",
    "Final Answer: There were 27437 people who died of covid in Texas in 2020.\n",
    "\n",
    "Explanation:\n",
    "I queried the `covidtracking` table for the `death` column where the state\n",
    "is 'TX' and the date starts with '2020'. The query returned a list of tuples\n",
    "with the number of deaths for each day in 2020. To answer the question,\n",
    "I took the sum of all the deaths in the list, which is 27437.\n",
    "I used the following query\n",
    "\n",
    "```sql\n",
    "SELECT [death] FROM covidtracking WHERE state = 'TX' AND date LIKE '2020%'\"\n",
    "```\n",
    "===> End of Example\n",
    "\n",
    "\"\"\""
   ]
  },
  {
   "cell_type": "code",
   "execution_count": 41,
   "id": "78706f2f-cfcd-41ce-b5c9-d92600b0ea44",
   "metadata": {},
   "outputs": [],
   "source": [
    "llm = AzureChatOpenAI(\n",
    "    openai_api_version=\"2024-04-01-preview\",\n",
    "    azure_deployment=\"SayliModelSQLite\",\n",
    "    azure_endpoint=\"https://memi-openai-sayli.openai.azure.com/\",\n",
    "    api_key=\"17ddcb09784446f1bd2ef4ac4cd31cc4\",\n",
    "    temperature=0, \n",
    "    max_tokens=500\n",
    ")\n",
    "db_path = \"F:/GenAI/Database Agent/Scipts/test.db\"\n",
    "db = SQLDatabase.from_uri(f'sqlite:///{db_path}')\n",
    "toolkit = SQLDatabaseToolkit(db=db, llm=llm)"
   ]
  },
  {
   "cell_type": "code",
   "execution_count": 42,
   "id": "dd354644-177d-4813-b44b-cd42d471ff8a",
   "metadata": {},
   "outputs": [],
   "source": [
    "QUESTION = \"\"\"How may patients were hospitalized during October 2020\n",
    "in New York, and nationwide as the total of all states?\n",
    "Use the hospitalizedIncrease column\n",
    "\"\"\"\n",
    "\n",
    "agent_executor_SQL = create_sql_agent(\n",
    "    prefix=MSSQL_AGENT_PREFIX,\n",
    "    format_instructions = MSSQL_AGENT_FORMAT_INSTRUCTIONS,\n",
    "    llm=llm,\n",
    "    toolkit=toolkit,\n",
    "    top_k=30,\n",
    "    verbose=True\n",
    ")"
   ]
  },
  {
   "cell_type": "code",
   "execution_count": 43,
   "id": "87f6692d-335d-488b-91e8-88e55f6be33d",
   "metadata": {},
   "outputs": [
    {
     "name": "stdout",
     "output_type": "stream",
     "text": [
      "\n",
      "\n",
      "\u001b[1m> Entering new SQL Agent Executor chain...\u001b[0m\n",
      "\u001b[32;1m\u001b[1;3mAction: sql_db_list_tables\n",
      "Action Input: \u001b[0m\u001b[38;5;200m\u001b[1;3mall_states_history\u001b[0m\u001b[32;1m\u001b[1;3mI have identified the table `all_states_history` which likely contains the relevant data for hospitalization statistics. Now, I will check the schema of this table to understand its structure and the available columns.\n",
      "\n",
      "Action: sql_db_schema\n",
      "Action Input: all_states_history\u001b[0m\u001b[33;1m\u001b[1;3m\n",
      "CREATE TABLE all_states_history (\n",
      "\tdate TEXT, \n",
      "\tstate TEXT, \n",
      "\tdeath FLOAT, \n",
      "\t\"deathConfirmed\" FLOAT, \n",
      "\t\"deathIncrease\" BIGINT, \n",
      "\t\"deathProbable\" FLOAT, \n",
      "\thospitalized FLOAT, \n",
      "\t\"hospitalizedCumulative\" FLOAT, \n",
      "\t\"hospitalizedCurrently\" FLOAT, \n",
      "\t\"hospitalizedIncrease\" BIGINT, \n",
      "\t\"inIcuCumulative\" FLOAT, \n",
      "\t\"inIcuCurrently\" FLOAT, \n",
      "\tnegative FLOAT, \n",
      "\t\"negativeIncrease\" BIGINT, \n",
      "\t\"negativeTestsAntibody\" FLOAT, \n",
      "\t\"negativeTestsPeopleAntibody\" FLOAT, \n",
      "\t\"negativeTestsViral\" FLOAT, \n",
      "\t\"onVentilatorCumulative\" FLOAT, \n",
      "\t\"onVentilatorCurrently\" FLOAT, \n",
      "\tpositive FLOAT, \n",
      "\t\"positiveCasesViral\" FLOAT, \n",
      "\t\"positiveIncrease\" BIGINT, \n",
      "\t\"positiveScore\" BIGINT, \n",
      "\t\"positiveTestsAntibody\" FLOAT, \n",
      "\t\"positiveTestsAntigen\" FLOAT, \n",
      "\t\"positiveTestsPeopleAntibody\" FLOAT, \n",
      "\t\"positiveTestsPeopleAntigen\" FLOAT, \n",
      "\t\"positiveTestsViral\" FLOAT, \n",
      "\trecovered FLOAT, \n",
      "\t\"totalTestEncountersViral\" FLOAT, \n",
      "\t\"totalTestEncountersViralIncrease\" BIGINT, \n",
      "\t\"totalTestResults\" FLOAT, \n",
      "\t\"totalTestResultsIncrease\" BIGINT, \n",
      "\t\"totalTestsAntibody\" FLOAT, \n",
      "\t\"totalTestsAntigen\" FLOAT, \n",
      "\t\"totalTestsPeopleAntibody\" FLOAT, \n",
      "\t\"totalTestsPeopleAntigen\" FLOAT, \n",
      "\t\"totalTestsPeopleViral\" FLOAT, \n",
      "\t\"totalTestsPeopleViralIncrease\" BIGINT, \n",
      "\t\"totalTestsViral\" FLOAT, \n",
      "\t\"totalTestsViralIncrease\" BIGINT\n",
      ")\n",
      "\n",
      "/*\n",
      "3 rows from all_states_history table:\n",
      "date\tstate\tdeath\tdeathConfirmed\tdeathIncrease\tdeathProbable\thospitalized\thospitalizedCumulative\thospitalizedCurrently\thospitalizedIncrease\tinIcuCumulative\tinIcuCurrently\tnegative\tnegativeIncrease\tnegativeTestsAntibody\tnegativeTestsPeopleAntibody\tnegativeTestsViral\tonVentilatorCumulative\tonVentilatorCurrently\tpositive\tpositiveCasesViral\tpositiveIncrease\tpositiveScore\tpositiveTestsAntibody\tpositiveTestsAntigen\tpositiveTestsPeopleAntibody\tpositiveTestsPeopleAntigen\tpositiveTestsViral\trecovered\ttotalTestEncountersViral\ttotalTestEncountersViralIncrease\ttotalTestResults\ttotalTestResultsIncrease\ttotalTestsAntibody\ttotalTestsAntigen\ttotalTestsPeopleAntibody\ttotalTestsPeopleAntigen\ttotalTestsPeopleViral\ttotalTestsPeopleViralIncrease\ttotalTestsViral\ttotalTestsViralIncrease\n",
      "2021-03-07\tAK\t305.0\t0.0\t0\t0.0\t1293.0\t1293.0\t33.0\t0\t0.0\t0.0\t0.0\t0\t0.0\t0.0\t1660758.0\t0.0\t2.0\t56886.0\t0.0\t0\t0\t0.0\t0.0\t0.0\t0.0\t68693.0\t0.0\t0.0\t0\t1731628.0\t0\t0.0\t0.0\t0.0\t0.0\t0.0\t0\t1731628.0\t0\n",
      "2021-03-07\tAL\t10148.0\t7963.0\t-1\t2185.0\t45976.0\t45976.0\t494.0\t0\t2676.0\t0.0\t1931711.0\t2087\t0.0\t0.0\t0.0\t1515.0\t0.0\t499819.0\t392077.0\t408\t0\t0.0\t0.0\t0.0\t0.0\t0.0\t295690.0\t0.0\t0\t2323788.0\t2347\t0.0\t0.0\t119757.0\t0.0\t2323788.0\t2347\t0.0\t0\n",
      "2021-03-07\tAR\t5319.0\t4308.0\t22\t1011.0\t14926.0\t14926.0\t335.0\t11\t0.0\t141.0\t2480716.0\t3267\t0.0\t0.0\t2480716.0\t1533.0\t65.0\t324818.0\t255726.0\t165\t0\t0.0\t0.0\t0.0\t81803.0\t0.0\t315517.0\t0.0\t0\t2736442.0\t3380\t0.0\t0.0\t0.0\t481311.0\t0.0\t0\t2736442.0\t3380\n",
      "*/\u001b[0m\u001b[32;1m\u001b[1;3mI need to query the `all_states_history` table to find the total number of hospitalized patients in New York during October 2020, as well as the nationwide total for all states. I will filter the data for the month of October 2020 and sum the `hospitalizedIncrease` column for both New York and all states.\n",
      "\n",
      "First, I will write a query to get the total hospitalized patients in New York for October 2020.\n",
      "\n",
      "Action: sql_db_query_checker\n",
      "Action Input: \n",
      "SELECT SUM(hospitalizedIncrease) AS total_hospitalized_ny\n",
      "FROM all_states_history\n",
      "WHERE state = 'NY' AND date LIKE '2020-10%'\n",
      "\u001b[0m\u001b[36;1m\u001b[1;3m```sql\n",
      "SELECT SUM(hospitalizedIncrease) AS total_hospitalized_ny\n",
      "FROM all_states_history\n",
      "WHERE state = 'NY' AND date LIKE '2020-10%'\n",
      "```\u001b[0m\u001b[32;1m\u001b[1;3mI will now execute the query to get the total number of hospitalized patients in New York during October 2020.\n",
      "\n",
      "Action: sql_db_query\n",
      "Action Input: \n",
      "SELECT SUM(hospitalizedIncrease) AS total_hospitalized_ny\n",
      "FROM all_states_history\n",
      "WHERE state = 'NY' AND date LIKE '2020-10%'\n",
      "\u001b[0m\u001b[36;1m\u001b[1;3m[(0,)]\u001b[0m\u001b[32;1m\u001b[1;3mI received a result of 0 for the total hospitalized patients in New York during October 2020. This indicates that there were no recorded increases in hospitalizations for that month in New York according to the data.\n",
      "\n",
      "Now, I will write a query to get the total hospitalized patients nationwide for the same period.\n",
      "\n",
      "Action: sql_db_query_checker\n",
      "Action Input: \n",
      "SELECT SUM(hospitalizedIncrease) AS total_hospitalized_nationwide\n",
      "FROM all_states_history\n",
      "WHERE date LIKE '2020-10%'\n",
      "\u001b[0m\u001b[36;1m\u001b[1;3m```sql\n",
      "SELECT SUM(hospitalizedIncrease) AS total_hospitalized_nationwide\n",
      "FROM all_states_history\n",
      "WHERE date LIKE '2020-10%'\n",
      "```\u001b[0m\u001b[32;1m\u001b[1;3mI will now execute the query to get the total number of hospitalized patients nationwide during October 2020.\n",
      "\n",
      "Action: sql_db_query\n",
      "Action Input: \n",
      "SELECT SUM(hospitalizedIncrease) AS total_hospitalized_nationwide\n",
      "FROM all_states_history\n",
      "WHERE date LIKE '2020-10%'\n",
      "\u001b[0m\u001b[36;1m\u001b[1;3m[(53485,)]\u001b[0m\u001b[32;1m\u001b[1;3mFinal Answer: In October 2020, there were 0 hospitalized patients recorded in New York, while nationwide, there were a total of 53,485 hospitalized patients.\n",
      "\n",
      "Explanation: I queried the `all_states_history` table to find the total number of hospitalized patients in New York during October 2020 by summing the `hospitalizedIncrease` column for that state and date range. The result was 0, indicating no recorded increases in hospitalizations for that month in New York. For the nationwide total, I summed the same column for all states during October 2020, which resulted in 53,485. \n",
      "\n",
      "The queries used were:\n",
      "```sql\n",
      "SELECT SUM(hospitalizedIncrease) AS total_hospitalized_ny\n",
      "FROM all_states_history\n",
      "WHERE state = 'NY' AND date LIKE '2020-10%'\n",
      "\n",
      "SELECT SUM(hospitalizedIncrease) AS total_hospitalized_nationwide\n",
      "FROM all_states_history\n",
      "WHERE date LIKE '2020-10%'\n",
      "```\u001b[0m\n",
      "\n",
      "\u001b[1m> Finished chain.\u001b[0m\n"
     ]
    },
    {
     "data": {
      "text/plain": [
       "{'input': 'How may patients were hospitalized during October 2020\\nin New York, and nationwide as the total of all states?\\nUse the hospitalizedIncrease column\\n',\n",
       " 'output': \"In October 2020, there were 0 hospitalized patients recorded in New York, while nationwide, there were a total of 53,485 hospitalized patients.\\n\\nExplanation: I queried the `all_states_history` table to find the total number of hospitalized patients in New York during October 2020 by summing the `hospitalizedIncrease` column for that state and date range. The result was 0, indicating no recorded increases in hospitalizations for that month in New York. For the nationwide total, I summed the same column for all states during October 2020, which resulted in 53,485. \\n\\nThe queries used were:\\n```sql\\nSELECT SUM(hospitalizedIncrease) AS total_hospitalized_ny\\nFROM all_states_history\\nWHERE state = 'NY' AND date LIKE '2020-10%'\\n\\nSELECT SUM(hospitalizedIncrease) AS total_hospitalized_nationwide\\nFROM all_states_history\\nWHERE date LIKE '2020-10%'\\n```\"}"
      ]
     },
     "execution_count": 43,
     "metadata": {},
     "output_type": "execute_result"
    }
   ],
   "source": [
    "agent_executor_SQL.invoke(QUESTION)"
   ]
  },
  {
   "cell_type": "code",
   "execution_count": null,
   "id": "28a565d4-79e3-486f-9e38-f79be2e76f82",
   "metadata": {},
   "outputs": [],
   "source": []
  }
 ],
 "metadata": {
  "kernelspec": {
   "display_name": "Python 3 (ipykernel)",
   "language": "python",
   "name": "python3"
  },
  "language_info": {
   "codemirror_mode": {
    "name": "ipython",
    "version": 3
   },
   "file_extension": ".py",
   "mimetype": "text/x-python",
   "name": "python",
   "nbconvert_exporter": "python",
   "pygments_lexer": "ipython3",
   "version": "3.13.4"
  }
 },
 "nbformat": 4,
 "nbformat_minor": 5
}
